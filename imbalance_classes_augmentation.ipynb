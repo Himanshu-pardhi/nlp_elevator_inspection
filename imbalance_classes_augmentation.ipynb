{
 "cells": [
  {
   "cell_type": "code",
   "execution_count": null,
   "id": "45847a1b",
   "metadata": {},
   "outputs": [],
   "source": [
    "import pandas as pd  \n",
    "df_json = pd.read_json('/home/soukaina/Documents/dataset/BeCode/kone_classification.json')\n",
    "df_json.head()"
   ]
  },
  {
   "cell_type": "code",
   "execution_count": null,
   "id": "8b26a247",
   "metadata": {},
   "outputs": [],
   "source": [
    "df_json.shape"
   ]
  },
  {
   "cell_type": "code",
   "execution_count": null,
   "id": "09aed4d2",
   "metadata": {},
   "outputs": [],
   "source": [
    "df_json.duplicated()"
   ]
  },
  {
   "cell_type": "code",
   "execution_count": null,
   "id": "a367e51c",
   "metadata": {},
   "outputs": [],
   "source": [
    "df_json.duplicated().count()"
   ]
  },
  {
   "cell_type": "code",
   "execution_count": null,
   "id": "8fb77df0",
   "metadata": {},
   "outputs": [],
   "source": [
    "df_json.head(50)"
   ]
  },
  {
   "cell_type": "code",
   "execution_count": null,
   "id": "917943f2",
   "metadata": {},
   "outputs": [],
   "source": [
    "df_json['text'].duplicated()"
   ]
  },
  {
   "cell_type": "code",
   "execution_count": null,
   "id": "4de57d6f",
   "metadata": {},
   "outputs": [],
   "source": [
    "print(df_json['label'].count())"
   ]
  },
  {
   "cell_type": "code",
   "execution_count": null,
   "id": "0d4dc47c",
   "metadata": {},
   "outputs": [],
   "source": [
    "print(df_json['label'].max)"
   ]
  },
  {
   "cell_type": "code",
   "execution_count": null,
   "id": "cd581ca9",
   "metadata": {},
   "outputs": [],
   "source": [
    "df_json[df_json.culture == 'nl-nl'].shape[0]\n"
   ]
  },
  {
   "cell_type": "code",
   "execution_count": null,
   "id": "d5cf16cf",
   "metadata": {},
   "outputs": [],
   "source": [
    "df_json[df_json.culture == 'fr-fr'].shape[0]\n"
   ]
  },
  {
   "cell_type": "code",
   "execution_count": null,
   "id": "708f8f18",
   "metadata": {},
   "outputs": [],
   "source": [
    "df_json[df_json.label == 'OTHER'].shape[0]\n"
   ]
  },
  {
   "cell_type": "code",
   "execution_count": null,
   "id": "d54a0334",
   "metadata": {},
   "outputs": [],
   "source": [
    "df_json[df_json.source == 'WORKFLOW'].shape[0]\n"
   ]
  },
  {
   "cell_type": "code",
   "execution_count": null,
   "id": "69faccf6",
   "metadata": {},
   "outputs": [],
   "source": [
    "df_json[df_json.source == 'TRAINING'].shape[0]\n"
   ]
  },
  {
   "cell_type": "code",
   "execution_count": null,
   "id": "0d5c9ff4",
   "metadata": {},
   "outputs": [],
   "source": [
    "# df_json.drop(df_json.loc[df_json['source']=='WORKFLOW'].index)\n",
    "df_json.drop(df_json.index[df_json['source'] == 'WORKFLOW'],inplace=True)"
   ]
  },
  {
   "cell_type": "code",
   "execution_count": null,
   "id": "8c195dce",
   "metadata": {},
   "outputs": [],
   "source": [
    "df_json"
   ]
  },
  {
   "cell_type": "code",
   "execution_count": null,
   "id": "51ea2909",
   "metadata": {},
   "outputs": [],
   "source": [
    "df_json.drop(df_json.index[df_json['culture'] == 'nl-nl'],inplace=True)"
   ]
  },
  {
   "cell_type": "code",
   "execution_count": null,
   "id": "6a685db4",
   "metadata": {},
   "outputs": [],
   "source": [
    "df_json"
   ]
  },
  {
   "cell_type": "code",
   "execution_count": null,
   "id": "80208486",
   "metadata": {},
   "outputs": [],
   "source": [
    "# df_json[df_json.duplicated()]\n",
    "df_json[df_json.duplicated(['label','text'])]\n"
   ]
  },
  {
   "cell_type": "code",
   "execution_count": null,
   "id": "584c61b6",
   "metadata": {},
   "outputs": [],
   "source": [
    "df_json['text']=df_json['text'].str.lower()\n",
    "df_json"
   ]
  },
  {
   "cell_type": "code",
   "execution_count": null,
   "id": "fc9e4748",
   "metadata": {},
   "outputs": [],
   "source": [
    "import matplotlib.pyplot as plt\n",
    "\n",
    "# visualize the data, and see how many numbers of text are there per label\n",
    "\n",
    "fig = plt.figure(figsize=(15,10))\n",
    "colors = ['grey','grey','grey','grey','grey','grey','grey','grey','grey',\n",
    "    'grey','darkblue','darkblue','darkblue']\n",
    "df_json.groupby('label').text.count().sort_values().plot.barh(\n",
    "    ylim=0, color=colors, title= 'NUMBER OF texts IN EACH label')\n",
    "plt.xlabel('Number of ocurrences', fontsize = 10)"
   ]
  },
  {
   "cell_type": "code",
   "execution_count": null,
   "id": "91a58168",
   "metadata": {},
   "outputs": [],
   "source": [
    "df_json['label'].nunique()"
   ]
  },
  {
   "cell_type": "code",
   "execution_count": null,
   "id": "d57555cd",
   "metadata": {},
   "outputs": [],
   "source": [
    "df_json['label']"
   ]
  },
  {
   "cell_type": "code",
   "execution_count": null,
   "id": "cec018ad",
   "metadata": {},
   "outputs": [],
   "source": [
    "df_json['length'] = df_json['text'].apply(lambda x: len(x))\n",
    "df_json.head()"
   ]
  },
  {
   "cell_type": "code",
   "execution_count": null,
   "id": "bffe7b4c",
   "metadata": {},
   "outputs": [],
   "source": [
    "df_json.length.max()\n"
   ]
  },
  {
   "cell_type": "code",
   "execution_count": null,
   "id": "60aa3115",
   "metadata": {},
   "outputs": [],
   "source": [
    "import pandas as pd\n",
    "import json\n",
    "import re\n"
   ]
  },
  {
   "cell_type": "code",
   "execution_count": null,
   "id": "243586b5",
   "metadata": {},
   "outputs": [],
   "source": [
    "import spacy\n",
    "nlp = spacy.load(\"fr_core_news_sm\")"
   ]
  },
  {
   "cell_type": "code",
   "execution_count": null,
   "id": "e48e9ce5",
   "metadata": {},
   "outputs": [],
   "source": [
    "from spacy.lang.fr.stop_words import STOP_WORDS as fr_stop\n",
    "from spacy.tokenizer import Tokenizer"
   ]
  },
  {
   "cell_type": "code",
   "execution_count": null,
   "id": "60d2ca33",
   "metadata": {},
   "outputs": [],
   "source": [
    "# some text cleaning functions\n",
    "def convert_to_lower(text):\n",
    "    return text.lower()\n",
    "\n",
    "def remove_numbers(text):\n",
    "    number_pattern = r'\\d+'\n",
    "    without_number = re.sub(pattern=number_pattern, repl=\" \", string=text)\n",
    "    return without_number\n",
    "\n",
    "def remove_extra_white_spaces(text):\n",
    "    single_char_pattern = r'\\s+[a-zA-Z]\\s+'\n",
    "    without_sc = re.sub(pattern=single_char_pattern, repl=\" \", string=text)\n",
    "    return without_sc\n",
    "\n",
    "def remove_special_char(text):\n",
    "    special_char = r'[^\\w\\s]|.:,*\"'\n",
    "    remove_special_char = re.sub(pattern=special_char, repl=\" \", string=text)\n",
    "    return remove_special_char"
   ]
  },
  {
   "cell_type": "code",
   "execution_count": null,
   "id": "5650a07d",
   "metadata": {},
   "outputs": [],
   "source": []
  },
  {
   "cell_type": "code",
   "execution_count": null,
   "id": "a4bb666c",
   "metadata": {},
   "outputs": [],
   "source": [
    "df_json['text'] = df_json['text'].apply(lambda x: convert_to_lower(x))\n",
    "df_json['text'] = df_json['text'].apply(lambda x: remove_numbers(x))\n",
    "df_json['text'] = df_json['text'].apply(lambda x: remove_extra_white_spaces(x))\n",
    "df_json['text'] = df_json['text'].apply(lambda x: remove_special_char(x))"
   ]
  },
  {
   "cell_type": "code",
   "execution_count": null,
   "id": "07efe65a",
   "metadata": {},
   "outputs": [],
   "source": [
    "df_json['text'].iloc[50]\n"
   ]
  },
  {
   "cell_type": "code",
   "execution_count": null,
   "id": "f5988ffe",
   "metadata": {
    "scrolled": true
   },
   "outputs": [],
   "source": [
    "df_json['length_after_cleaning'] = df_json['text'].apply(lambda x: len(x))\n",
    "df_json.head()"
   ]
  },
  {
   "cell_type": "code",
   "execution_count": null,
   "id": "e4352170",
   "metadata": {},
   "outputs": [],
   "source": [
    "print(len(df_json['label'].tolist()))"
   ]
  },
  {
   "cell_type": "code",
   "execution_count": null,
   "id": "3e3f00b4",
   "metadata": {},
   "outputs": [],
   "source": [
    "import pandas as pd\n",
    "import numpy as np\n",
    "from sklearn.preprocessing import LabelEncoder\n",
    "# creating initial dataframe\n",
    "\n",
    "# creating instance of labelencoder\n",
    "labelencoder = LabelEncoder()\n",
    "# Assigning numerical values and storing in another column\n",
    "df_json['label_encode'] = labelencoder.fit_transform(df_json['label'])\n",
    "df_json"
   ]
  },
  {
   "cell_type": "code",
   "execution_count": null,
   "id": "722c50aa",
   "metadata": {},
   "outputs": [],
   "source": [
    "print(len(df_json['label_encode'].tolist()))"
   ]
  },
  {
   "cell_type": "markdown",
   "id": "adfc7429",
   "metadata": {},
   "source": [
    "# Augmentation"
   ]
  },
  {
   "cell_type": "code",
   "execution_count": null,
   "id": "3dd7e8ea",
   "metadata": {},
   "outputs": [],
   "source": [
    "import nlpaug.augmenter.word.context_word_embs as aug\n"
   ]
  },
  {
   "cell_type": "code",
   "execution_count": null,
   "id": "cdfee955",
   "metadata": {},
   "outputs": [],
   "source": [
    "sample_text = df_json['text'].iloc[100]\n"
   ]
  },
  {
   "cell_type": "code",
   "execution_count": null,
   "id": "8854ecaa",
   "metadata": {},
   "outputs": [],
   "source": [
    "sample_text\n"
   ]
  },
  {
   "cell_type": "code",
   "execution_count": null,
   "id": "f37f5f84",
   "metadata": {},
   "outputs": [],
   "source": [
    "augmenter = aug.ContextualWordEmbsAug(model_path='bert-base-uncased', action=\"insert\")\n"
   ]
  },
  {
   "cell_type": "code",
   "execution_count": null,
   "id": "b57a2fc3",
   "metadata": {},
   "outputs": [],
   "source": [
    "augmented_sample_text = augmenter.augment(sample_text)\n",
    "augmented_sample_text\n"
   ]
  },
  {
   "cell_type": "code",
   "execution_count": null,
   "id": "ee6ca472",
   "metadata": {},
   "outputs": [],
   "source": [
    "for i in range(5):\n",
    "    print(augmenter.augment(sample_text))"
   ]
  },
  {
   "cell_type": "code",
   "execution_count": null,
   "id": "f7654a42",
   "metadata": {},
   "outputs": [],
   "source": [
    "value_count=df_json['label'].value_counts()\n",
    "value_count.sort_values"
   ]
  },
  {
   "cell_type": "code",
   "execution_count": null,
   "id": "68343eba",
   "metadata": {},
   "outputs": [],
   "source": [
    "df_json.sort_values(by='label', inplace=True)\n",
    "df_json"
   ]
  },
  {
   "cell_type": "code",
   "execution_count": null,
   "id": "e324fd6c",
   "metadata": {},
   "outputs": [],
   "source": [
    "\n",
    "df_minority=df_json.loc[['MR08','MR16','SH11','SH16','DOC03','SH07','MOD','CAR03','CAR01','CAR08','CAR23','CAR09','CAR04','CAR18','MR05','DOC04','SH19','LD13','CAR26','MR04','LD05','SH23','CAR12','MR07','OOS','LD01','SH02','SH26','LD16','CAR25','CAR19','LD11','DOC10','MR15','CAR15','SH03','DOC08','CAR16','SH14','LD14','CD02','DOC09','SH27','CW01'],['text','culture','document_id','annotation_id','source','length','length_after_cleaning','label_encode']]"
   ]
  },
  {
   "cell_type": "code",
   "execution_count": null,
   "id": "4f3d8b05",
   "metadata": {},
   "outputs": [],
   "source": [
    "df_minority"
   ]
  },
  {
   "cell_type": "code",
   "execution_count": null,
   "id": "9f96fcaa",
   "metadata": {},
   "outputs": [],
   "source": [
    "df_minority.reset_index(inplace=True)"
   ]
  },
  {
   "cell_type": "code",
   "execution_count": null,
   "id": "d5e2eaac",
   "metadata": {},
   "outputs": [],
   "source": [
    "df_minority"
   ]
  },
  {
   "cell_type": "code",
   "execution_count": null,
   "id": "e42349b1",
   "metadata": {},
   "outputs": [],
   "source": [
    "value_count1=df_minority['label'].value_counts()\n",
    "value_count1"
   ]
  },
  {
   "cell_type": "code",
   "execution_count": null,
   "id": "4bf5817d",
   "metadata": {},
   "outputs": [],
   "source": [
    "# frames = [df_majority, df_minority]  \n",
    "# df_merged = pd.concat(frames)"
   ]
  },
  {
   "cell_type": "code",
   "execution_count": null,
   "id": "e9314bc0",
   "metadata": {},
   "outputs": [],
   "source": [
    "df_minority.columns\n",
    "  \n",
    "df_minority['label'].nunique()"
   ]
  },
  {
   "cell_type": "code",
   "execution_count": null,
   "id": "acee3d20",
   "metadata": {},
   "outputs": [],
   "source": [
    "df_minority.reset_index(drop=True)\n",
    "df_minority"
   ]
  },
  {
   "cell_type": "code",
   "execution_count": null,
   "id": "247355f5",
   "metadata": {},
   "outputs": [],
   "source": [
    "from tqdm.auto import tqdm\n",
    "from sklearn.utils import shuffle\n"
   ]
  },
  {
   "cell_type": "code",
   "execution_count": null,
   "id": "1ac64d9c",
   "metadata": {},
   "outputs": [],
   "source": [
    "def augmentMyData(df, augmenter, repetitions=2, samples=30):\n",
    "    augmented_texts = []\n",
    "    # select only the minority class samples\n",
    "    spam_df = df.reset_index(drop=True) # removes unecessary index column\n",
    "    for i in tqdm(np.random.randint(0, len(spam_df), samples)):\n",
    "        # generating 'n_samples' augmented texts\n",
    "        for _ in range(repetitions):\n",
    "            augmented_text = augmenter.augment(spam_df['text'].iloc[i])\n",
    "            augmented_texts.append(augmented_text)\n",
    "            \n",
    "        \n",
    "    data = {\n",
    "        'label': df['label'].tolist(),\n",
    "        'text': augmented_texts\n",
    "    }\n",
    "    aug_df = pd.DataFrame(data)\n",
    "    df = shuffle(df.append(aug_df).reset_index(drop=True))\n",
    "    return df"
   ]
  },
  {
   "cell_type": "code",
   "execution_count": null,
   "id": "42d36610",
   "metadata": {},
   "outputs": [],
   "source": [
    "new_df = df_minority.drop(labels=['length', 'length_after_cleaning'], axis=1)\n",
    "new_df.head()"
   ]
  },
  {
   "cell_type": "code",
   "execution_count": null,
   "id": "51f7187e",
   "metadata": {},
   "outputs": [],
   "source": [
    "aug_df = augmentMyData(df_minority, augmenter,samples=30)\n"
   ]
  },
  {
   "cell_type": "code",
   "execution_count": null,
   "id": "a7ffa6cc",
   "metadata": {},
   "outputs": [],
   "source": [
    "aug_df['label'].value_counts()\n"
   ]
  },
  {
   "cell_type": "code",
   "execution_count": null,
   "id": "da734f60",
   "metadata": {},
   "outputs": [],
   "source": [
    "print(\"Original: \", result.shape)\n",
    "print(\"Augmented: \", aug_df.shape)"
   ]
  },
  {
   "cell_type": "code",
   "execution_count": null,
   "id": "4b565fd5",
   "metadata": {},
   "outputs": [],
   "source": [
    "aug_df"
   ]
  }
 ],
 "metadata": {
  "kernelspec": {
   "display_name": "nlp_env",
   "language": "python",
   "name": "nlp_env"
  },
  "language_info": {
   "codemirror_mode": {
    "name": "ipython",
    "version": 3
   },
   "file_extension": ".py",
   "mimetype": "text/x-python",
   "name": "python",
   "nbconvert_exporter": "python",
   "pygments_lexer": "ipython3",
   "version": "3.10.4"
  }
 },
 "nbformat": 4,
 "nbformat_minor": 5
}
