{
 "cells": [
  {
   "cell_type": "code",
   "execution_count": null,
   "id": "605b15fc",
   "metadata": {},
   "outputs": [],
   "source": [
    "import pandas as pd\n"
   ]
  },
  {
   "cell_type": "code",
   "execution_count": null,
   "id": "6a57e2dc",
   "metadata": {},
   "outputs": [],
   "source": [
    "import pandas as pd\n",
    "import json\n",
    "import re\n",
    "\n",
    "json_file = r\"C:\\Users\\himan\\OneDrive\\Desktop\\BeCode\\Dataset_Becode\\nlp_data\\BeCode\\BeCode\\kone_classification.json\"\n",
    "with open(json_file) as f:  \n",
    "    data = json.load(f)\n",
    "    df=pd.DataFrame(data)\n",
    "df.head()"
   ]
  },
  {
   "cell_type": "markdown",
   "id": "1f0a0038",
   "metadata": {},
   "source": [
    "# Data exploration"
   ]
  },
  {
   "cell_type": "code",
   "execution_count": null,
   "id": "1daacb58",
   "metadata": {},
   "outputs": [],
   "source": [
    "df.index"
   ]
  },
  {
   "cell_type": "code",
   "execution_count": null,
   "id": "b8a7f2fa",
   "metadata": {},
   "outputs": [],
   "source": [
    "# number of observations dataset contain\n",
    "df.shape"
   ]
  },
  {
   "cell_type": "code",
   "execution_count": null,
   "id": "8978909c",
   "metadata": {},
   "outputs": [],
   "source": [
    "df.duplicated()"
   ]
  },
  {
   "cell_type": "code",
   "execution_count": null,
   "id": "2e953379",
   "metadata": {},
   "outputs": [],
   "source": [
    "df.shape"
   ]
  },
  {
   "cell_type": "code",
   "execution_count": null,
   "id": "d4a2be57",
   "metadata": {},
   "outputs": [],
   "source": [
    "# check different labels the dataset contain\n",
    "\n",
    "df[\"label\"].unique"
   ]
  },
  {
   "cell_type": "code",
   "execution_count": null,
   "id": "49f998f9",
   "metadata": {},
   "outputs": [],
   "source": [
    "df.label.nunique()"
   ]
  },
  {
   "cell_type": "code",
   "execution_count": null,
   "id": "c3fb7cdb",
   "metadata": {},
   "outputs": [],
   "source": [
    "df[\"label\"].value_counts()"
   ]
  },
  {
   "cell_type": "code",
   "execution_count": null,
   "id": "61917e74",
   "metadata": {},
   "outputs": [],
   "source": [
    "df[\"culture\"].value_counts()"
   ]
  },
  {
   "cell_type": "code",
   "execution_count": null,
   "id": "5bd6e46f",
   "metadata": {},
   "outputs": [],
   "source": [
    "df[\"source\"].value_counts()\n"
   ]
  },
  {
   "cell_type": "code",
   "execution_count": null,
   "id": "b3f2260a",
   "metadata": {},
   "outputs": [],
   "source": [
    "df.drop_duplicates()"
   ]
  },
  {
   "cell_type": "code",
   "execution_count": null,
   "id": "6a665bad",
   "metadata": {},
   "outputs": [],
   "source": [
    "df.shape"
   ]
  },
  {
   "cell_type": "code",
   "execution_count": null,
   "id": "f698ab76",
   "metadata": {},
   "outputs": [],
   "source": [
    "# find duplicate\n",
    "duplicates = df[df.duplicated()]\n",
    "duplicates"
   ]
  },
  {
   "cell_type": "code",
   "execution_count": null,
   "id": "f2019223",
   "metadata": {},
   "outputs": [],
   "source": [
    "duplicates.shape"
   ]
  },
  {
   "cell_type": "code",
   "execution_count": null,
   "id": "632a1595",
   "metadata": {},
   "outputs": [],
   "source": [
    "df.label.count()"
   ]
  },
  {
   "cell_type": "code",
   "execution_count": null,
   "id": "3fcfd828",
   "metadata": {},
   "outputs": [],
   "source": [
    "df.label.value_counts()"
   ]
  },
  {
   "cell_type": "code",
   "execution_count": null,
   "id": "4db29dfd",
   "metadata": {},
   "outputs": [],
   "source": [
    "# drop WORKFLOW source data\n",
    "df.drop(df[(df[\"source\"] == \"WORKFLOW\")].index, inplace = True)"
   ]
  },
  {
   "cell_type": "code",
   "execution_count": null,
   "id": "4e5e0192",
   "metadata": {},
   "outputs": [],
   "source": [
    "df.shape"
   ]
  },
  {
   "cell_type": "code",
   "execution_count": null,
   "id": "3f927a5d",
   "metadata": {},
   "outputs": [],
   "source": [
    "df.label.nunique()"
   ]
  },
  {
   "cell_type": "code",
   "execution_count": null,
   "id": "d8937a74",
   "metadata": {},
   "outputs": [],
   "source": [
    "df.annotation_id.nunique()"
   ]
  },
  {
   "cell_type": "code",
   "execution_count": null,
   "id": "081f03a1",
   "metadata": {},
   "outputs": [],
   "source": [
    "df.document_id.nunique()"
   ]
  },
  {
   "cell_type": "code",
   "execution_count": null,
   "id": "a6fa843a",
   "metadata": {},
   "outputs": [],
   "source": [
    "# drop nl culture data\n",
    "df.drop(df[(df[\"culture\"] == \"nl-nl\")].index, inplace = True)"
   ]
  },
  {
   "cell_type": "code",
   "execution_count": null,
   "id": "fd9ffac6",
   "metadata": {},
   "outputs": [],
   "source": [
    "df.shape"
   ]
  },
  {
   "cell_type": "code",
   "execution_count": null,
   "id": "683eea96",
   "metadata": {},
   "outputs": [],
   "source": [
    "df.label.nunique()"
   ]
  },
  {
   "cell_type": "code",
   "execution_count": null,
   "id": "53fdcd1f",
   "metadata": {},
   "outputs": [],
   "source": [
    "df.isnull().sum()"
   ]
  },
  {
   "cell_type": "code",
   "execution_count": null,
   "id": "9db0bcd8",
   "metadata": {},
   "outputs": [],
   "source": [
    "# calculating length of each record in our df\n",
    "df['length'] = df['text'].apply(lambda x: len(x))\n",
    "df.head()"
   ]
  },
  {
   "cell_type": "code",
   "execution_count": null,
   "id": "090ed7d3",
   "metadata": {},
   "outputs": [],
   "source": [
    "df['text'].iloc[140]"
   ]
  },
  {
   "cell_type": "code",
   "execution_count": null,
   "id": "09b379c8",
   "metadata": {},
   "outputs": [],
   "source": [
    "df['text'].iloc[199]"
   ]
  },
  {
   "cell_type": "code",
   "execution_count": null,
   "id": "3d22f79a",
   "metadata": {},
   "outputs": [],
   "source": [
    "df.length.max()"
   ]
  },
  {
   "cell_type": "markdown",
   "id": "a7bcda3c",
   "metadata": {},
   "source": [
    "# Data preprocessing"
   ]
  },
  {
   "cell_type": "code",
   "execution_count": null,
   "id": "290f93f7",
   "metadata": {},
   "outputs": [],
   "source": [
    "import nltk\n",
    "nltk.download('punkt')\n",
    "nltk.download('wordnet')\n",
    "nltk.download('stopwords')\n",
    "\n",
    "from nltk.stem import WordNetLemmatizer\n",
    "from nltk import word_tokenize\n",
    "from nltk.corpus import stopwords\n",
    "from nltk import word_tokenize"
   ]
  },
  {
   "cell_type": "code",
   "execution_count": null,
   "id": "bff45994",
   "metadata": {},
   "outputs": [],
   "source": [
    "\n",
    "nltk.download('stopwords')\n"
   ]
  },
  {
   "cell_type": "code",
   "execution_count": null,
   "id": "d6d1f58a",
   "metadata": {},
   "outputs": [],
   "source": [
    "# some text cleaning functions\n",
    "def convert_to_lower(text):\n",
    "    return text.lower()\n",
    "\n",
    "def remove_numbers(text):\n",
    "    number_pattern = r'\\d+'\n",
    "    without_number = re.sub(pattern=number_pattern, repl=\" \", string=text)\n",
    "    return without_number\n",
    "\n",
    "def lemmatizing(text):\n",
    "    lemmatizer = WordNetLemmatizer()\n",
    "    tokens = word_tokenize(text)\n",
    "    for i in range(len(tokens)):\n",
    "        lemma_word = lemmatizer.lemmatize(tokens[i])\n",
    "        tokens[i] = lemma_word\n",
    "    return \" \".join(tokens)\n",
    "\n",
    "def remove_stopwords(text):\n",
    "    removed = []\n",
    "    stop_words = list(stopwords.words(\"french\"))\n",
    "    tokens = word_tokenize(text)\n",
    "    for i in range(len(tokens)):\n",
    "        if tokens[i] not in stop_words:\n",
    "            removed.append(tokens[i])\n",
    "    return \" \".join(removed)\n",
    "\n",
    "def remove_extra_white_spaces(text):\n",
    "    single_char_pattern = r'\\s+[a-zA-Z]\\s+'\n",
    "    without_sc = re.sub(pattern=single_char_pattern, repl=\" \", string=text)\n",
    "    return without_sc\n",
    "\n",
    "\n",
    "def remove_special_char(text):\n",
    "    special_char = r'[^\\w\\s]|.:,*\"'\n",
    "    remove_special_char = re.sub(pattern=special_char, repl=\" \", string=text)\n",
    "    return remove_special_char"
   ]
  },
  {
   "cell_type": "code",
   "execution_count": null,
   "id": "e1e8fe48",
   "metadata": {},
   "outputs": [],
   "source": [
    "df['text'] = df['text'].apply(lambda x: convert_to_lower(x))\n",
    "df['text'] = df['text'].apply(lambda x: remove_numbers(x))\n",
    "df['text'] = df['text'].apply(lambda x: remove_stopwords(x))\n",
    "df['text'] = df['text'].apply(lambda x: remove_extra_white_spaces(x))\n",
    "df['text'] = df['text'].apply(lambda x: remove_special_char(x))\n",
    "df['text'] = df['text'].apply(lambda x: lemmatizing(x))"
   ]
  },
  {
   "cell_type": "code",
   "execution_count": null,
   "id": "7f4bf032",
   "metadata": {},
   "outputs": [],
   "source": [
    "df['text'].iloc[140]"
   ]
  },
  {
   "cell_type": "code",
   "execution_count": null,
   "id": "39f12bad",
   "metadata": {},
   "outputs": [],
   "source": [
    "df['text'].iloc[199]"
   ]
  },
  {
   "cell_type": "code",
   "execution_count": null,
   "id": "fd4eb73b",
   "metadata": {},
   "outputs": [],
   "source": [
    "# calculating length of each record after performing text cleaning\n",
    "df['length_after_clean'] = df['text'].apply(lambda x: len(x))\n",
    "df.head()"
   ]
  },
  {
   "cell_type": "code",
   "execution_count": null,
   "id": "b373a28c",
   "metadata": {},
   "outputs": [],
   "source": [
    "df.head(5)"
   ]
  },
  {
   "cell_type": "code",
   "execution_count": null,
   "id": "aa271979",
   "metadata": {},
   "outputs": [],
   "source": [
    "df[\"label_int\"] = pd.factorize(df.label)[0]"
   ]
  },
  {
   "cell_type": "code",
   "execution_count": null,
   "id": "f7eba53a",
   "metadata": {},
   "outputs": [],
   "source": [
    "df.head(4)"
   ]
  },
  {
   "cell_type": "code",
   "execution_count": null,
   "id": "877c62f4",
   "metadata": {},
   "outputs": [],
   "source": [
    "df.length_after_clean.max()"
   ]
  },
  {
   "cell_type": "code",
   "execution_count": null,
   "id": "d676aae8",
   "metadata": {},
   "outputs": [],
   "source": [
    "df.label_int.value_counts()"
   ]
  },
  {
   "cell_type": "code",
   "execution_count": null,
   "id": "0cf0a9df",
   "metadata": {},
   "outputs": [],
   "source": [
    "# check the maximum and minimum frequent for each label\n",
    "df.groupby('label').count().sort_values(by=['text'], ascending=False)[6:]"
   ]
  },
  {
   "cell_type": "code",
   "execution_count": null,
   "id": "4af933a3",
   "metadata": {},
   "outputs": [],
   "source": [
    "df.to_csv(\"clean_data.csv\", index=False)"
   ]
  },
  {
   "cell_type": "code",
   "execution_count": null,
   "id": "513b6b92",
   "metadata": {},
   "outputs": [],
   "source": [
    "df['text'].iloc[200]"
   ]
  },
  {
   "cell_type": "code",
   "execution_count": null,
   "id": "d237efb0",
   "metadata": {},
   "outputs": [],
   "source": [
    "df['text'].iloc[156]"
   ]
  },
  {
   "cell_type": "code",
   "execution_count": null,
   "id": "8f343001",
   "metadata": {},
   "outputs": [],
   "source": [
    "df['text'].iloc[123]"
   ]
  },
  {
   "cell_type": "code",
   "execution_count": null,
   "id": "1ed7fc8b",
   "metadata": {},
   "outputs": [],
   "source": [
    "df['text'].iloc[199]"
   ]
  },
  {
   "cell_type": "code",
   "execution_count": null,
   "id": "e790dcdd",
   "metadata": {},
   "outputs": [],
   "source": [
    "df['text'].iloc[75]"
   ]
  },
  {
   "cell_type": "code",
   "execution_count": null,
   "id": "114bc747",
   "metadata": {},
   "outputs": [],
   "source": [
    "df['text'].iloc[106]"
   ]
  },
  {
   "cell_type": "code",
   "execution_count": null,
   "id": "d69cd6cd",
   "metadata": {},
   "outputs": [],
   "source": [
    "df['text'].iloc[106]"
   ]
  },
  {
   "cell_type": "code",
   "execution_count": null,
   "id": "88a3e37b",
   "metadata": {},
   "outputs": [],
   "source": [
    "df['text'].iloc[50]"
   ]
  },
  {
   "cell_type": "code",
   "execution_count": null,
   "id": "99b388c7",
   "metadata": {},
   "outputs": [],
   "source": [
    "df['text'].iloc[88]"
   ]
  },
  {
   "cell_type": "code",
   "execution_count": null,
   "id": "07db8689",
   "metadata": {},
   "outputs": [],
   "source": [
    "df['text'].iloc[50]"
   ]
  },
  {
   "cell_type": "code",
   "execution_count": null,
   "id": "fd7ab164",
   "metadata": {},
   "outputs": [],
   "source": [
    "df['text'].iloc[18]"
   ]
  },
  {
   "cell_type": "code",
   "execution_count": null,
   "id": "afe12731",
   "metadata": {},
   "outputs": [],
   "source": [
    "df['text'].iloc[50]"
   ]
  },
  {
   "cell_type": "code",
   "execution_count": null,
   "id": "0e963e4d",
   "metadata": {},
   "outputs": [],
   "source": [
    "df['text'].iloc[88]"
   ]
  },
  {
   "cell_type": "code",
   "execution_count": null,
   "id": "9d7b65dc",
   "metadata": {},
   "outputs": [],
   "source": [
    "df['text'].iloc[18]"
   ]
  }
 ],
 "metadata": {
  "kernelspec": {
   "display_name": "tf",
   "language": "python",
   "name": "tf"
  },
  "language_info": {
   "codemirror_mode": {
    "name": "ipython",
    "version": 3
   },
   "file_extension": ".py",
   "mimetype": "text/x-python",
   "name": "python",
   "nbconvert_exporter": "python",
   "pygments_lexer": "ipython3",
   "version": "3.7.13"
  }
 },
 "nbformat": 4,
 "nbformat_minor": 5
}
