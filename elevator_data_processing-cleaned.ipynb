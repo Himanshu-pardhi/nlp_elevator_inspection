{
 "cells": [
  {
   "cell_type": "code",
   "execution_count": null,
   "id": "605b15fc",
   "metadata": {},
   "outputs": [],
   "source": [
    "# Installation of required libraries\n",
    "\n",
    "import pandas as pd\n",
    "import glob\n",
    "import os"
   ]
  },
  {
   "cell_type": "code",
   "execution_count": null,
   "id": "18382adf",
   "metadata": {},
   "outputs": [],
   "source": [
    "# setting the path for joining multiple files\n",
    "files = os.path.join(r\"C:\\...\", \"*.csv\")\n",
    "\n",
    "# list of merged files returned\n",
    "files = glob.glob(files)\n",
    "\n",
    "print(\"Resultant CSV after joining all CSV files at a particular location...\");\n",
    "\n",
    "# joining files with concat and read_csv\n",
    "df_allcsv = pd.concat(map(pd.read_csv, files), ignore_index=True)\n",
    "df_allcsv.head(50)\n",
    "\n",
    "#df_final.to_csv(\"path\"+\"all_kone.csv\", index=False)"
   ]
  },
  {
   "cell_type": "code",
   "execution_count": null,
   "id": "a20285a9",
   "metadata": {},
   "outputs": [],
   "source": [
    "df_allcsv.shape"
   ]
  },
  {
   "cell_type": "code",
   "execution_count": null,
   "id": "2f24d6e9",
   "metadata": {},
   "outputs": [],
   "source": [
    "df_allcsv.duplicated()"
   ]
  },
  {
   "cell_type": "code",
   "execution_count": null,
   "id": "dcf6bcd0",
   "metadata": {},
   "outputs": [],
   "source": [
    "df_allcsv.shape"
   ]
  },
  {
   "cell_type": "code",
   "execution_count": null,
   "id": "7e018a15",
   "metadata": {},
   "outputs": [],
   "source": [
    "df_allcsv.drop_duplicates()"
   ]
  },
  {
   "cell_type": "code",
   "execution_count": null,
   "id": "d87bf121",
   "metadata": {},
   "outputs": [],
   "source": [
    "df_allcsv.shape"
   ]
  },
  {
   "cell_type": "code",
   "execution_count": null,
   "id": "6a57e2dc",
   "metadata": {},
   "outputs": [],
   "source": [
    "import pandas as pd\n",
    "import json\n",
    "import re\n",
    "\n",
    "json_file = r\"C:\\..\\kone_classification.json\"\n",
    "with open(json_file) as f:  \n",
    "    data = json.load(f)\n",
    "    df_json=pd.DataFrame(data)\n",
    "df_json.head()"
   ]
  },
  {
   "cell_type": "code",
   "execution_count": null,
   "id": "1daacb58",
   "metadata": {},
   "outputs": [],
   "source": [
    "df_json.index"
   ]
  },
  {
   "cell_type": "code",
   "execution_count": null,
   "id": "b8a7f2fa",
   "metadata": {},
   "outputs": [],
   "source": [
    "# number of observations dataset contain\n",
    "df_json.shape"
   ]
  },
  {
   "cell_type": "code",
   "execution_count": null,
   "id": "8978909c",
   "metadata": {},
   "outputs": [],
   "source": [
    "df_json.duplicated()"
   ]
  },
  {
   "cell_type": "code",
   "execution_count": null,
   "id": "2e953379",
   "metadata": {},
   "outputs": [],
   "source": [
    "df_json.shape"
   ]
  },
  {
   "cell_type": "code",
   "execution_count": null,
   "id": "49f998f9",
   "metadata": {},
   "outputs": [],
   "source": [
    "# check different labels the dataset contain\n",
    "df_json.label.nunique()"
   ]
  },
  {
   "cell_type": "code",
   "execution_count": null,
   "id": "c3fb7cdb",
   "metadata": {},
   "outputs": [],
   "source": [
    "df_json[\"label\"].value_counts()"
   ]
  },
  {
   "cell_type": "code",
   "execution_count": null,
   "id": "61917e74",
   "metadata": {},
   "outputs": [],
   "source": [
    "df_json[\"culture\"].value_counts()"
   ]
  },
  {
   "cell_type": "code",
   "execution_count": null,
   "id": "b3f2260a",
   "metadata": {},
   "outputs": [],
   "source": [
    "df_json.drop_duplicates()"
   ]
  },
  {
   "cell_type": "code",
   "execution_count": null,
   "id": "6a665bad",
   "metadata": {},
   "outputs": [],
   "source": [
    "df_json.shape"
   ]
  },
  {
   "cell_type": "code",
   "execution_count": null,
   "id": "f698ab76",
   "metadata": {},
   "outputs": [],
   "source": [
    "# find duplicate\n",
    "duplicates = df_json[df_json.duplicated()]\n",
    "duplicates"
   ]
  },
  {
   "cell_type": "code",
   "execution_count": null,
   "id": "f2019223",
   "metadata": {},
   "outputs": [],
   "source": [
    "duplicates.shape"
   ]
  },
  {
   "cell_type": "code",
   "execution_count": null,
   "id": "632a1595",
   "metadata": {},
   "outputs": [],
   "source": [
    "df_json.label.count()"
   ]
  },
  {
   "cell_type": "code",
   "execution_count": null,
   "id": "3fcfd828",
   "metadata": {},
   "outputs": [],
   "source": [
    "df_json.label.value_counts()"
   ]
  },
  {
   "cell_type": "code",
   "execution_count": null,
   "id": "4db29dfd",
   "metadata": {},
   "outputs": [],
   "source": [
    "# drop WORKFLOW source data\n",
    "df_json.drop(df_json[(df_json[\"source\"] == \"WORKFLOW\")].index, inplace = True)"
   ]
  },
  {
   "cell_type": "code",
   "execution_count": null,
   "id": "4e5e0192",
   "metadata": {},
   "outputs": [],
   "source": [
    "df_json.shape"
   ]
  },
  {
   "cell_type": "code",
   "execution_count": null,
   "id": "3f927a5d",
   "metadata": {},
   "outputs": [],
   "source": [
    "df_json.label.nunique()"
   ]
  },
  {
   "cell_type": "code",
   "execution_count": null,
   "id": "d8937a74",
   "metadata": {},
   "outputs": [],
   "source": [
    "df_json.annotation_id.nunique()"
   ]
  },
  {
   "cell_type": "code",
   "execution_count": null,
   "id": "081f03a1",
   "metadata": {},
   "outputs": [],
   "source": [
    "df_json.document_id.nunique()"
   ]
  },
  {
   "cell_type": "code",
   "execution_count": null,
   "id": "a6fa843a",
   "metadata": {},
   "outputs": [],
   "source": [
    "# drop nl culture data\n",
    "df_json.drop(df_json[(df_json[\"culture\"] == \"nl-nl\")].index, inplace = True)"
   ]
  },
  {
   "cell_type": "code",
   "execution_count": null,
   "id": "fd9ffac6",
   "metadata": {},
   "outputs": [],
   "source": [
    "df_json.shape"
   ]
  },
  {
   "cell_type": "code",
   "execution_count": null,
   "id": "683eea96",
   "metadata": {},
   "outputs": [],
   "source": [
    "df_json.label.nunique()"
   ]
  },
  {
   "cell_type": "code",
   "execution_count": null,
   "id": "1cbcfe84",
   "metadata": {},
   "outputs": [],
   "source": [
    "df_json.isnull().sum()"
   ]
  },
  {
   "cell_type": "code",
   "execution_count": null,
   "id": "aec9fad6",
   "metadata": {},
   "outputs": [],
   "source": [
    "# calculating length of each record in our df\n",
    "df_json['length'] = df_json['text'].apply(lambda x: len(x))\n",
    "df_json.head()"
   ]
  },
  {
   "cell_type": "code",
   "execution_count": null,
   "id": "9712e29c",
   "metadata": {},
   "outputs": [],
   "source": [
    "df_json.length.max()"
   ]
  },
  {
   "cell_type": "code",
   "execution_count": null,
   "id": "e6340d16",
   "metadata": {},
   "outputs": [],
   "source": [
    "import spacy\n",
    "nlp = spacy.load(\"fr_core_news_sm\")"
   ]
  },
  {
   "cell_type": "code",
   "execution_count": null,
   "id": "72bd99ed",
   "metadata": {},
   "outputs": [],
   "source": [
    "from spacy.lang.fr.stop_words import STOP_WORDS as fr_stop\n",
    "from spacy.tokenizer import Tokenizer"
   ]
  },
  {
   "cell_type": "code",
   "execution_count": null,
   "id": "4301516f",
   "metadata": {},
   "outputs": [],
   "source": [
    "# some text cleaning functions\n",
    "def convert_to_lower(text):\n",
    "    return text.lower()\n",
    "\n",
    "def remove_numbers(text):\n",
    "    number_pattern = r'\\d+'\n",
    "    without_number = re.sub(pattern=number_pattern, repl=\" \", string=text)\n",
    "    return without_number\n",
    "\n",
    "def remove_extra_white_spaces(text):\n",
    "    single_char_pattern = r'\\s+[a-zA-Z]\\s+'\n",
    "    without_sc = re.sub(pattern=single_char_pattern, repl=\" \", string=text)\n",
    "    return without_sc\n",
    "\n",
    "def remove_special_char(text):\n",
    "    special_char = r'[^\\w\\s]|.:,*\"'\n",
    "    remove_special_char = re.sub(pattern=special_char, repl=\" \", string=text)\n",
    "    return remove_special_char"
   ]
  },
  {
   "cell_type": "code",
   "execution_count": null,
   "id": "27c3484f",
   "metadata": {},
   "outputs": [],
   "source": [
    "df_json['text'] = df_json['text'].apply(lambda x: convert_to_lower(x))\n",
    "df_json['text'] = df_json['text'].apply(lambda x: remove_numbers(x))\n",
    "df_json['text'] = df_json['text'].apply(lambda x: remove_extra_white_spaces(x))\n",
    "df_json['text'] = df_json['text'].apply(lambda x: remove_special_char(x))"
   ]
  },
  {
   "cell_type": "code",
   "execution_count": null,
   "id": "0e23f600",
   "metadata": {},
   "outputs": [],
   "source": [
    "df_json['text'].iloc[50]"
   ]
  },
  {
   "cell_type": "code",
   "execution_count": null,
   "id": "e519da54",
   "metadata": {},
   "outputs": [],
   "source": []
  }
 ],
 "metadata": {
  "kernelspec": {
   "display_name": "Python 3 (ipykernel)",
   "language": "python",
   "name": "python3"
  },
  "language_info": {
   "codemirror_mode": {
    "name": "ipython",
    "version": 3
   },
   "file_extension": ".py",
   "mimetype": "text/x-python",
   "name": "python",
   "nbconvert_exporter": "python",
   "pygments_lexer": "ipython3",
   "version": "3.10.2"
  }
 },
 "nbformat": 4,
 "nbformat_minor": 5
}
